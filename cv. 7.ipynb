{
 "cells": [
  {
   "cell_type": "code",
   "execution_count": 1,
   "metadata": {
    "collapsed": true,
    "pycharm": {
     "name": "#%%\n"
    }
   },
   "outputs": [
    {
     "name": "stdout",
     "output_type": "stream",
     "text": [
      "Eulerovo číslo: 2.717605, počet iterací: 1000000\n"
     ]
    }
   ],
   "source": [
    "import random\n",
    "\n",
    "pocet_iteraci = 1000000\n",
    "\n",
    "def pres_jedna():\n",
    "  akumulator = random.random()\n",
    "  pocitadlo = 1\n",
    "\n",
    "  while akumulator < 1:\n",
    "    akumulator += random.random()\n",
    "    pocitadlo += 1\n",
    "  return pocitadlo\n",
    "\n",
    "def estimace_e():\n",
    "  suma_hodnot = 0\n",
    "  pocet = 0\n",
    "  for i in range(pocet_iteraci):\n",
    "    suma_hodnot += pres_jedna()\n",
    "    pocet +=1\n",
    "  return suma_hodnot/pocet\n",
    "\n",
    "print(f\"Eulerovo číslo: {estimace_e()}, počet iterací: {pocet_iteraci}\")"
   ]
  },
  {
   "cell_type": "code",
   "execution_count": null,
   "outputs": [],
   "source": [],
   "metadata": {
    "collapsed": false,
    "pycharm": {
     "name": "#%%\n"
    }
   }
  }
 ],
 "metadata": {
  "kernelspec": {
   "display_name": "Python 3",
   "language": "python",
   "name": "python3"
  },
  "language_info": {
   "codemirror_mode": {
    "name": "ipython",
    "version": 2
   },
   "file_extension": ".py",
   "mimetype": "text/x-python",
   "name": "python",
   "nbconvert_exporter": "python",
   "pygments_lexer": "ipython2",
   "version": "2.7.6"
  }
 },
 "nbformat": 4,
 "nbformat_minor": 0
}