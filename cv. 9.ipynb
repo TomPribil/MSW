{
 "cells": [
  {
   "cell_type": "code",
   "execution_count": 25,
   "outputs": [],
   "source": [
    "from scipy import integrate\n",
    "import numpy as np"
   ],
   "metadata": {
    "collapsed": false,
    "pycharm": {
     "name": "#%%\n"
    }
   }
  },
  {
   "cell_type": "code",
   "execution_count": 26,
   "outputs": [],
   "source": [
    "def trapezoid(fx, a, b, dx):\n",
    "  x=np.arange(a, b+dx, dx)\n",
    "  y=fx(x)\n",
    "  return (integrate.trapezoid(y,x))\n",
    "\n",
    "def simpson(fx, a, b, dx):\n",
    "  x = np.arange(a, b+dx, dx)\n",
    "  y = fx(x)\n",
    "  return(integrate.simpson(y,x))\n",
    "\n",
    "def romberg(fx, a, b):\n",
    "  return (integrate.romberg(fx, a, b))\n",
    "\n",
    "def quad(fx, a, b):\n",
    "    return integrate.quadrature(fx, a, b)[0]"
   ],
   "metadata": {
    "collapsed": false,
    "pycharm": {
     "name": "#%%\n"
    }
   }
  },
  {
   "cell_type": "code",
   "execution_count": 27,
   "outputs": [],
   "source": [
    "def f1(x):\n",
    "    return 4*x**3 + 3*x**2 - 2*x + 1\n",
    "\n",
    "def f2(x):\n",
    "  return 3*np.sin(2*x-1)\n",
    "\n",
    "def f3(x):\n",
    "  return x**3 + np.log(x+1)\n",
    "\n",
    "a = 0\n",
    "b = 5\n",
    "dx = 0.1"
   ],
   "metadata": {
    "collapsed": false,
    "pycharm": {
     "name": "#%%\n"
    }
   }
  },
  {
   "cell_type": "code",
   "execution_count": 28,
   "outputs": [
    {
     "name": "stdout",
     "output_type": "stream",
     "text": [
      "Polynom\n",
      "trapezoid:  730.275\n",
      "Simpson:    730.0\n",
      "Romberg:    730.0\n",
      "Gauss:      730.0\n",
      "\n",
      "Harmonická funkce\n",
      "trapezoid:  2.169886846069567\n",
      "Simpson:    2.177168296606548\n",
      "Romberg:    2.177148851628997\n",
      "Gauss:      2.1771488521186293\n",
      "\n",
      "Logaritmická funkce\n",
      "trapezoid:  162.06236264662797\n",
      "Simpson:    162.00055572479852\n",
      "Romberg:    162.0005568144447\n",
      "Gauss:      162.00055719081467\n"
     ]
    }
   ],
   "source": [
    "print(f\"Polynom\\ntrapezoid:  {trapezoid(f1, a, b, dx)}\")\n",
    "print(f\"Simpson:    {simpson(f1, a, b, dx)}\")\n",
    "print(f\"Romberg:    {romberg(f1,a,b)}\")\n",
    "print(f\"Gauss:      {quad(f1,a,b)}\")\n",
    "\n",
    "print(f\"\\nHarmonická funkce\\ntrapezoid:  {trapezoid(f2, a, b, dx)}\")\n",
    "print(f\"Simpson:    {simpson(f2, a, b, dx)}\")\n",
    "print(f\"Romberg:    {romberg(f2,a,b)}\")\n",
    "print(f\"Gauss:      {quad(f2,a,b)}\")\n",
    "\n",
    "print(f\"\\nLogaritmická funkce\\ntrapezoid:  {trapezoid(f3, a, b, dx)}\")\n",
    "print(f\"Simpson:    {simpson(f3, a, b, dx)}\")\n",
    "print(f\"Romberg:    {romberg(f3,a,b)}\")\n",
    "print(f\"Gauss:      {quad(f3,a,b)}\")"
   ],
   "metadata": {
    "collapsed": false,
    "pycharm": {
     "name": "#%%\n"
    }
   }
  }
 ],
 "metadata": {
  "kernelspec": {
   "display_name": "Python 3",
   "language": "python",
   "name": "python3"
  },
  "language_info": {
   "codemirror_mode": {
    "name": "ipython",
    "version": 2
   },
   "file_extension": ".py",
   "mimetype": "text/x-python",
   "name": "python",
   "nbconvert_exporter": "python",
   "pygments_lexer": "ipython2",
   "version": "2.7.6"
  }
 },
 "nbformat": 4,
 "nbformat_minor": 0
}