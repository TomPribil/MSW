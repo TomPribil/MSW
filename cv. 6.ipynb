{
 "cells": [
  {
   "cell_type": "code",
   "execution_count": null,
   "metadata": {
    "collapsed": true,
    "pycharm": {
     "name": "#%%\n"
    }
   },
   "outputs": [],
   "source": [
    "import psutil\n",
    "import random"
   ]
  },
  {
   "cell_type": "code",
   "execution_count": 25,
   "outputs": [
    {
     "name": "stdout",
     "output_type": "stream",
     "text": [
      "Vygenerovaný seed: 44021782118\n",
      "Vygenerované náhodné číslo: 0.9302465425723664\n"
     ]
    }
   ],
   "source": [
    "random.seed()\n",
    "\n",
    "seed = int(psutil.cpu_percent(0) * psutil.virtual_memory()[1])\n",
    "random.seed(seed)\n",
    "gen_random = random.random()\n",
    "\n",
    "print(f\"Vygenerovaný seed: {seed}\")\n",
    "print(f\"Vygenerované náhodné číslo: {gen_random}\")"
   ],
   "metadata": {
    "collapsed": false,
    "pycharm": {
     "name": "#%%\n"
    }
   }
  },
  {
   "cell_type": "code",
   "execution_count": null,
   "outputs": [],
   "source": [],
   "metadata": {
    "collapsed": false,
    "pycharm": {
     "name": "#%%\n"
    }
   }
  }
 ],
 "metadata": {
  "kernelspec": {
   "display_name": "Python 3",
   "language": "python",
   "name": "python3"
  },
  "language_info": {
   "codemirror_mode": {
    "name": "ipython",
    "version": 2
   },
   "file_extension": ".py",
   "mimetype": "text/x-python",
   "name": "python",
   "nbconvert_exporter": "python",
   "pygments_lexer": "ipython2",
   "version": "2.7.6"
  }
 },
 "nbformat": 4,
 "nbformat_minor": 0
}