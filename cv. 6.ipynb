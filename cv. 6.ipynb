{
 "cells": [
  {
   "cell_type": "code",
   "execution_count": 10,
   "metadata": {
    "collapsed": true,
    "pycharm": {
     "name": "#%%\n"
    }
   },
   "outputs": [
    {
     "name": "stdout",
     "output_type": "stream",
     "text": [
      "Vygenerovaný seed: 87314320588\n",
      "Vygenerované náhodné číslo: 0.17619770709192073\n"
     ]
    }
   ],
   "source": [
    "import psutil\n",
    "import random\n",
    "\n",
    "random.seed()\n",
    "\n",
    "seed = int(psutil.cpu_percent(0) * psutil.virtual_memory()[1])\n",
    "random.seed(seed)\n",
    "gen_random = random.random()\n",
    "\n",
    "print(f\"Vygenerovaný seed: {seed}\")\n",
    "print(f\"Vygenerované náhodné číslo: {gen_random}\")"
   ]
  }
 ],
 "metadata": {
  "kernelspec": {
   "display_name": "Python 3",
   "language": "python",
   "name": "python3"
  },
  "language_info": {
   "codemirror_mode": {
    "name": "ipython",
    "version": 2
   },
   "file_extension": ".py",
   "mimetype": "text/x-python",
   "name": "python",
   "nbconvert_exporter": "python",
   "pygments_lexer": "ipython2",
   "version": "2.7.6"
  }
 },
 "nbformat": 4,
 "nbformat_minor": 0
}