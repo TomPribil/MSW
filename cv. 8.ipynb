{
 "cells": [
  {
   "cell_type": "code",
   "execution_count": 4,
   "metadata": {
    "collapsed": true,
    "pycharm": {
     "name": "#%%\n"
    }
   },
   "outputs": [
    {
     "name": "stdout",
     "output_type": "stream",
     "text": [
      "Dopředná diference   - statický krok: -0.002346875624363448, adaptabilní krok: -0.0022788178632334507\n",
      "Zpětná diference     - statický krok: -0.002394286543649163, adaptabilní krok: -0.0024686724630428904\n",
      "Centrální diference  - statický krok: -0.0023705810840063055, adaptabilní krok: -0.0023737451631381705\n"
     ]
    }
   ],
   "source": [
    "def forward_derivate(f, c, h):\n",
    "    return (f(c+h) - f(c))/h\n",
    "\n",
    "def backward_derivate(f, c, h):\n",
    "    return (f(c) - f(c-h))/h\n",
    "\n",
    "def central_derivate(f, c, h):\n",
    "    return (f(c+h) - f(c-h))/(2*h)\n",
    "\n",
    "f = lambda x: 4/x**2\n",
    "c = 15\n",
    "h = 0.1\n",
    "adaptive_h = float(input(\"Zadej krok: \"))\n",
    "\n",
    "print(f\"Dopředná diference   - statický krok: {forward_derivate(f, c, h)}, adaptabilní krok: {forward_derivate(f, c, adaptive_h)}\")\n",
    "print(f\"Zpětná diference     - statický krok: {backward_derivate(f, c, h)}, adaptabilní krok: {backward_derivate(f, c, adaptive_h)}\")\n",
    "print(f\"Centrální diference  - statický krok: {central_derivate(f, c, h)}, adaptabilní krok: {central_derivate(f, c, adaptive_h)}\")"
   ]
  }
 ],
 "metadata": {
  "kernelspec": {
   "display_name": "Python 3",
   "language": "python",
   "name": "python3"
  },
  "language_info": {
   "codemirror_mode": {
    "name": "ipython",
    "version": 2
   },
   "file_extension": ".py",
   "mimetype": "text/x-python",
   "name": "python",
   "nbconvert_exporter": "python",
   "pygments_lexer": "ipython2",
   "version": "2.7.6"
  }
 },
 "nbformat": 4,
 "nbformat_minor": 0
}